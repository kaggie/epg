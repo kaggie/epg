{
 "cells": [
  {
   "cell_type": "markdown",
   "metadata": {},
   "source": [
    "# Basic EPG Simulation Example\n",
    "\n",
    "This notebook demonstrates a basic Extended Phase Graph (EPG) simulation for a simple RF pulse train, using the `epg` package."
   ]
  },
  {
   "cell_type": "code",
   "metadata": {},
   "source": [
    "import torch\n",
    "import matplotlib.pyplot as plt\n",
    "from epg_mri import EPGSimulation\n",
    "from epg_plotting_tools import plot_pulse_sequence, plot_epg_evolution"
   ],
   "execution_count": null,
   "outputs": []
  },
  {
   "cell_type": "markdown",
   "metadata": {},
   "source": [
    "## Define Pulse Sequence"
   ]
  },
  {
   "cell_type": "code",
   "metadata": {},
   "source": [
    "n_pulses = 10\n",
    "flip_angles = torch.ones(n_pulses) * torch.deg2rad(torch.tensor(90.0))  # 90 degree pulses\n",
    "phases = torch.zeros(n_pulses)\n",
    "TR, TE = 500.0, 20.0  # ms"
   ],
   "execution_count": null,
   "outputs": []
  },
  {
   "cell_type": "markdown",
   "metadata": {},
   "source": [
    "### Visualize the Pulse Sequence"
   ]
  },
  {
   "cell_type": "code",
   "metadata": {},
   "source": [
    "plot_pulse_sequence(flip_angles, phases, TR=TR)"
   ],
   "execution_count": null,
   "outputs": []
  },
  {
   "cell_type": "markdown",
   "metadata": {},
   "source": [
    "## Run the EPG Simulation"
   ]
  },
  {
   "cell_type": "code",
   "metadata": {},
   "source": [
    "T1, T2 = 1000.0, 80.0  # ms\n",
    "epg = EPGSimulation(n_states=21)\n",
    "states = epg(flip_angles, phases, T1, T2, TR, TE)\n",
    "plot_epg_evolution(states, max_display_order=5, mqc=False)"
   ],
   "execution_count": null,
   "outputs": []
  },
  {
   "cell_type": "markdown",
   "metadata": {},
   "source": [
    "### Inspect the Evolution\n",
    "\n",
    "Print the F+ and Z0 signals after each pulse:"
   ]
  },
  {
   "cell_type": "code",
   "metadata": {},
   "source": [
    "for i, (Fp, Fm, Z) in enumerate(states):\n",
    "    print(f\"Pulse {i+1}: Fp0={Fp[0].real:.4f}, Z0={Z[0]:.4f}\")"
   ],
   "execution_count": null,
   "outputs": []
  }
 ],
 "metadata": {
  "kernelspec": {
   "display_name": "Python 3",
   "language": "python",
   "name": "python3"
  },
  "language_info": {
   "name": "python",
   "version": ""
  }
 },
 "nbformat": 4,
 "nbformat_minor": 2
}
