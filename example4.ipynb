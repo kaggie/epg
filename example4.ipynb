{
 "cells": [
  {
   "cell_type": "markdown",
   "metadata": {},
   "source": [
    "# Chemical Exchange Saturation Transfer (CEST) EPG Simulation Example\n",
    "\n",
    "*This is a template. Fill in with your model and exchange parameters as needed.*"
   ]
  },
  {
   "cell_type": "code",
   "metadata": {},
   "source": [
    "# import torch\n",
    "# from epg_mri_cest import EPGSimulationCEST\n",
    "# from epg_plotting_tools import plot_pulse_sequence, plot_epg_evolution"
   ],
   "execution_count": null,
   "outputs": []
  },
  {
   "cell_type": "markdown",
   "metadata": {},
   "source": [
    "Define your pools, exchange rates, sequence, and visualize as above."
   ]
  }
 ],
 "metadata": {
  "kernelspec": {
   "display_name": "Python 3",
   "language": "python",
   "name": "python3"
  },
  "language_info": {
   "name": "python",
   "version": ""
  }
 },
 "nbformat": 4,
 "nbformat_minor": 2
}
