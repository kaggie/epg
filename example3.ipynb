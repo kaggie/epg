{
 "cells": [
  {
   "cell_type": "markdown",
   "metadata": {},
   "source": [
    "# Multiple Quantum Coherence (MQC) EPG Simulation Example\n",
    "\n",
    "This notebook demonstrates simulation of F+, F-, and double quantum (DQ) states using an EPG-MQC model."
   ]
  },
  {
   "cell_type": "code",
   "metadata": {},
   "source": [
    "import torch\n",
    "from epg_mri_mqc import EPGSimulationMQC\n",
    "from epg_plotting_tools import plot_pulse_sequence, plot_epg_evolution"
   ],
   "execution_count": null,
   "outputs": []
  },
  {
   "cell_type": "code",
   "metadata": {},
   "source": [
    "n_pulses = 8\n",
    "flip_angles = torch.deg2rad(torch.tensor([90, 180, 90, 180, 90, 180, 90, 180]))\n",
    "phases = torch.zeros(n_pulses)\n",
    "TR, TE = 500.0, 20.0\n",
    "T1, T2 = 1000.0, 100.0"
   ],
   "execution_count": null,
   "outputs": []
  },
  {
   "cell_type": "code",
   "metadata": {},
   "source": [
    "plot_pulse_sequence(flip_angles, phases, TR=TR)"
   ],
   "execution_count": null,
   "outputs": []
  },
  {
   "cell_type": "code",
   "metadata": {},
   "source": [
    "epg = EPGSimulationMQC(n_states=10, max_mqc_order=2)\n",
    "states = epg(flip_angles, phases, T1, T2, TR, TE)"
   ],
   "execution_count": null,
   "outputs": []
  },
  {
   "cell_type": "code",
   "metadata": {},
   "source": [
    "plot_epg_evolution(states, max_display_order=3, mqc=True)"
   ],
   "execution_count": null,
   "outputs": []
  }
 ],
 "metadata": {
  "kernelspec": {
   "display_name": "Python 3",
   "language": "python",
   "name": "python3"
  },
  "language_info": {
   "name": "python",
   "version": ""
  }
 },
 "nbformat": 4,
 "nbformat_minor": 2
}
