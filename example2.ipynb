{
 "cells": [
  {
   "cell_type": "markdown",
   "metadata": {},
   "source": [
    "# Magnetization Transfer (MT) EPG Simulation Example\n",
    "\n",
    "This notebook demonstrates EPG simulation for a two-pool Magnetization Transfer (MT) model."
   ]
  },
  {
   "cell_type": "code",
   "metadata": {},
   "source": [
    "import torch\n",
    "from epg_mri_mt import EPGSimulationMT\n",
    "from epg_plotting_tools import plot_pulse_sequence, plot_epg_evolution"
   ],
   "execution_count": null,
   "outputs": []
  },
  {
   "cell_type": "code",
   "metadata": {},
   "source": [
    "# Define pulse sequence\n",
    "n_pulses = 10\n",
    "flip_angles = torch.ones(n_pulses) * torch.deg2rad(torch.tensor(90.0))\n",
    "phases = torch.zeros(n_pulses)\n",
    "TR, TE = 500.0, 20.0"
   ],
   "execution_count": null,
   "outputs": []
  },
  {
   "cell_type": "code",
   "metadata": {},
   "source": [
    "# Visualize pulse sequence\n",
    "plot_pulse_sequence(flip_angles, phases, TR=TR)"
   ],
   "execution_count": null,
   "outputs": []
  },
  {
   "cell_type": "code",
   "metadata": {},
   "source": [
    "# MT parameters\n",
    "T1f, T2f = 1000.0, 80.0\n",
    "T1b, T2b = 1000.0, 10.0\n",
    "kf, kb = 3.0, 6.0\n",
    "wf, wb = 0.9, 0.1"
   ],
   "execution_count": null,
   "outputs": []
  },
  {
   "cell_type": "code",
   "metadata": {},
   "source": [
    "epg = EPGSimulationMT(n_states=21)\n",
    "states = epg(\n",
    "    flip_angles, phases, T1f, T2f, T1b, T2b, kf, kb, TR, TE, wf=wf, wb=wb\n",
    ")"
   ],
   "execution_count": null,
   "outputs": []
  },
  {
   "cell_type": "markdown",
   "metadata": {},
   "source": [
    "## Plot Free and Bound Pool Z Magnetization"
   ]
  },
  {
   "cell_type": "code",
   "metadata": {},
   "source": [
    "import numpy as np\n",
    "import matplotlib.pyplot as plt\n",
    "Zf = np.array([s[2][0].item() for s in states])  # Z_f at spatial order 0\n",
    "Zb = np.array([s[5][0].item() for s in states])  # Z_b at spatial order 0\n",
    "plt.plot(Zf, 'o-', label='Free pool Z0')\n",
    "plt.plot(Zb, 's-', label='Bound pool Z0')\n",
    "plt.xlabel('Pulse number')\n",
    "plt.ylabel('Longitudinal Magnetization')\n",
    "plt.legend()\n",
    "plt.title('EPG-MT: Z0 Evolution')\n",
    "plt.show()"
   ],
   "execution_count": null,
   "outputs": []
  }
 ],
 "metadata": {
  "kernelspec": {
   "display_name": "Python 3",
   "language": "python",
   "name": "python3"
  },
  "language_info": {
   "name": "python",
   "version": ""
  }
 },
 "nbformat": 4,
 "nbformat_minor": 2
}
