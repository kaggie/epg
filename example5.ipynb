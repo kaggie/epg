{
 "cells": [
  {
   "cell_type": "markdown",
   "metadata": {},
   "source": [
    "# EPG Simulation with Diffusion Weighting Example\n",
    "\n",
    "*This is a template for adding diffusion effects to EPG simulations.*"
   ]
  },
  {
   "cell_type": "code",
   "metadata": {},
   "source": [
    "# import torch\n",
    "# from epg_mri_diffusion import EPGSimulationDiffusion\n",
    "# from epg_plotting_tools import plot_pulse_sequence, plot_epg_evolution"
   ],
   "execution_count": null,
   "outputs": []
  },
  {
   "cell_type": "markdown",
   "metadata": {},
   "source": [
    "Set up your diffusion coefficients, pulse sequence, and visualize as above."
   ]
  }
 ],
 "metadata": {
  "kernelspec": {
   "display_name": "Python 3",
   "language": "python",
   "name": "python3"
  },
  "language_info": {
   "name": "python",
   "version": ""
  }
 },
 "nbformat": 4,
 "nbformat_minor": 2
}
